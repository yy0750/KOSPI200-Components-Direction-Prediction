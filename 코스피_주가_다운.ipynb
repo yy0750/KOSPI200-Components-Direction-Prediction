{
  "cells": [
    {
      "cell_type": "markdown",
      "metadata": {
        "id": "view-in-github",
        "colab_type": "text"
      },
      "source": [
        "<a href=\"https://colab.research.google.com/github/yy0750/KOSPI200-Components-Direction-Prediction/blob/main/%EC%BD%94%EC%8A%A4%ED%94%BC_%EC%A3%BC%EA%B0%80_%EB%8B%A4%EC%9A%B4.ipynb\" target=\"_parent\"><img src=\"https://colab.research.google.com/assets/colab-badge.svg\" alt=\"Open In Colab\"/></a>"
      ]
    },
    {
      "cell_type": "code",
      "execution_count": null,
      "metadata": {
        "colab": {
          "base_uri": "https://localhost:8080/"
        },
        "id": "I17Xk8cyNb5P",
        "outputId": "9ffc279c-5535-4cf1-a62c-da48764bb8c5"
      },
      "outputs": [
        {
          "output_type": "stream",
          "name": "stdout",
          "text": [
            "Collecting finance-datareader\n",
            "  Downloading finance_datareader-0.9.90-py3-none-any.whl (46 kB)\n",
            "\u001b[2K     \u001b[90m━━━━━━━━━━━━━━━━━━━━━━━━━━━━━━━━━━━━━━━━\u001b[0m \u001b[32m46.6/46.6 kB\u001b[0m \u001b[31m1.3 MB/s\u001b[0m eta \u001b[36m0:00:00\u001b[0m\n",
            "\u001b[?25hRequirement already satisfied: pandas>=0.19.2 in /usr/local/lib/python3.10/dist-packages (from finance-datareader) (2.0.3)\n",
            "Requirement already satisfied: requests>=2.3.0 in /usr/local/lib/python3.10/dist-packages (from finance-datareader) (2.31.0)\n",
            "Collecting requests-file (from finance-datareader)\n",
            "  Downloading requests_file-2.1.0-py2.py3-none-any.whl (4.2 kB)\n",
            "Requirement already satisfied: lxml in /usr/local/lib/python3.10/dist-packages (from finance-datareader) (4.9.4)\n",
            "Requirement already satisfied: tqdm in /usr/local/lib/python3.10/dist-packages (from finance-datareader) (4.66.4)\n",
            "Requirement already satisfied: python-dateutil>=2.8.2 in /usr/local/lib/python3.10/dist-packages (from pandas>=0.19.2->finance-datareader) (2.8.2)\n",
            "Requirement already satisfied: pytz>=2020.1 in /usr/local/lib/python3.10/dist-packages (from pandas>=0.19.2->finance-datareader) (2023.4)\n",
            "Requirement already satisfied: tzdata>=2022.1 in /usr/local/lib/python3.10/dist-packages (from pandas>=0.19.2->finance-datareader) (2024.1)\n",
            "Requirement already satisfied: numpy>=1.21.0 in /usr/local/lib/python3.10/dist-packages (from pandas>=0.19.2->finance-datareader) (1.25.2)\n",
            "Requirement already satisfied: charset-normalizer<4,>=2 in /usr/local/lib/python3.10/dist-packages (from requests>=2.3.0->finance-datareader) (3.3.2)\n",
            "Requirement already satisfied: idna<4,>=2.5 in /usr/local/lib/python3.10/dist-packages (from requests>=2.3.0->finance-datareader) (3.7)\n",
            "Requirement already satisfied: urllib3<3,>=1.21.1 in /usr/local/lib/python3.10/dist-packages (from requests>=2.3.0->finance-datareader) (2.0.7)\n",
            "Requirement already satisfied: certifi>=2017.4.17 in /usr/local/lib/python3.10/dist-packages (from requests>=2.3.0->finance-datareader) (2024.6.2)\n",
            "Requirement already satisfied: six>=1.5 in /usr/local/lib/python3.10/dist-packages (from python-dateutil>=2.8.2->pandas>=0.19.2->finance-datareader) (1.16.0)\n",
            "Installing collected packages: requests-file, finance-datareader\n",
            "Successfully installed finance-datareader-0.9.90 requests-file-2.1.0\n"
          ]
        }
      ],
      "source": [
        "pip install finance-datareader"
      ]
    },
    {
      "cell_type": "code",
      "execution_count": null,
      "metadata": {
        "colab": {
          "base_uri": "https://localhost:8080/"
        },
        "id": "7fTMJLNv1ab3",
        "outputId": "b8f42737-99fa-46d8-be59-99d42559a41e"
      },
      "outputs": [
        {
          "output_type": "stream",
          "name": "stdout",
          "text": [
            "Mounted at /content/drive\n"
          ]
        }
      ],
      "source": [
        "import os\n",
        "import FinanceDataReader as fdr\n",
        "import matplotlib.pyplot as plt\n",
        "import pandas as pd\n",
        "\n",
        "from google.colab import drive\n",
        "drive.mount('/content/drive')"
      ]
    },
    {
      "cell_type": "code",
      "source": [
        "# 한글\n",
        "# !sudo apt-get install -y fonts-nanum\n",
        "# !sudo fc-cache -fv\n",
        "# !rm ~/.cache/matplotlib -rf\n",
        "plt.rc('font', family='NanumBarunGothic')"
      ],
      "metadata": {
        "id": "fvl_Y16PmK9s"
      },
      "execution_count": null,
      "outputs": []
    },
    {
      "cell_type": "code",
      "execution_count": null,
      "metadata": {
        "colab": {
          "base_uri": "https://localhost:8080/"
        },
        "id": "VGJ24_pCL9QI",
        "outputId": "450a79e0-1976-4374-a8e4-0801a60910ed"
      },
      "outputs": [
        {
          "output_type": "execute_result",
          "data": {
            "text/plain": [
              "276"
            ]
          },
          "metadata": {},
          "execution_count": 3
        }
      ],
      "source": [
        "df = pd.read_csv('/content/drive/MyDrive/code/통계학과머신러닝PBL/data/KSXconst.csv')\n",
        "\n",
        "for year in range(2004, 2024):\n",
        "    start_col = (year - 2004) * 12\n",
        "    end_col = start_col + 48\n",
        "    exec(f\"Close_{year} = [int(value) for value in list(set(df.iloc[:, start_col:end_col].dropna().values.flatten()))]\")\n",
        "\n",
        "Close_2004.__len__()"
      ]
    },
    {
      "cell_type": "code",
      "execution_count": null,
      "metadata": {
        "id": "80Br-WD5AloQ"
      },
      "outputs": [],
      "source": [
        "# Close_2004 = [int(value) for value in list(set(df.iloc[:, :48].dropna().values.flatten()))]\n",
        "# Close_2005 = [int(value) for value in list(set(df.iloc[:, 12:60].dropna().values.flatten()))]\n",
        "# Close_2006 = [int(value) for value in list(set(df.iloc[:, 24:72].dropna().values.flatten()))]\n",
        "# Close_2007 = [int(value) for value in list(set(df.iloc[:, 36:84].dropna().values.flatten()))]\n",
        "# Close_2008 = [int(value) for value in list(set(df.iloc[:, 48:96].dropna().values.flatten()))]\n",
        "# Close_2009 = [int(value) for value in list(set(df.iloc[:, 60:108].dropna().values.flatten()))]\n",
        "# Close_2010 = [int(value) for value in list(set(df.iloc[:, 72:120].dropna().values.flatten()))]\n",
        "# Close_2011 = [int(value) for value in list(set(df.iloc[:, 84:132].dropna().values.flatten()))]\n",
        "# Close_2012 = [int(value) for value in list(set(df.iloc[:, 96:144].dropna().values.flatten()))]\n",
        "# Close_2013 = [int(value) for value in list(set(df.iloc[:, 108:156].dropna().values.flatten()))]\n",
        "# Close_2014 = [int(value) for value in list(set(df.iloc[:, 120:168].dropna().values.flatten()))]\n",
        "# Close_2015 = [int(value) for value in list(set(df.iloc[:, 132:180].dropna().values.flatten()))]\n",
        "# Close_2016 = [int(value) for value in list(set(df.iloc[:, 144:192].dropna().values.flatten()))]\n",
        "# Close_2017 = [int(value) for value in list(set(df.iloc[:, 156:204].dropna().values.flatten()))]\n",
        "# Close_2018 = [int(value) for value in list(set(df.iloc[:, 168:216].dropna().values.flatten()))]\n",
        "# Close_2019 = [int(value) for value in list(set(df.iloc[:, 180:228].dropna().values.flatten()))]\n",
        "# Close_2020 = [int(value) for value in list(set(df.iloc[:, 192:240].dropna().values.flatten()))]\n",
        "# Close_2021 = [int(value) for value in list(set(df.iloc[:, 204:252].dropna().values.flatten()))]\n",
        "# Close_2022 = [int(value) for value in list(set(df.iloc[:, 216:264].dropna().values.flatten()))]\n",
        "# Close_2023 = [int(value) for value in list(set(df.iloc[:, 228:276].dropna().values.flatten()))]"
      ]
    },
    {
      "cell_type": "code",
      "execution_count": null,
      "metadata": {
        "id": "F5qPq8ffS9a8"
      },
      "outputs": [],
      "source": [
        "Close_2004 = [str(item).zfill(6) for item in Close_2004]\n",
        "Close_2005 = [str(item).zfill(6) for item in Close_2005]\n",
        "Close_2006 = [str(item).zfill(6) for item in Close_2006]\n",
        "Close_2007 = [str(item).zfill(6) for item in Close_2007]\n",
        "Close_2008 = [str(item).zfill(6) for item in Close_2008]\n",
        "Close_2009 = [str(item).zfill(6) for item in Close_2009]\n",
        "Close_2010 = [str(item).zfill(6) for item in Close_2010]\n",
        "Close_2011 = [str(item).zfill(6) for item in Close_2011]\n",
        "Close_2012 = [str(item).zfill(6) for item in Close_2012]\n",
        "Close_2013 = [str(item).zfill(6) for item in Close_2013]\n",
        "Close_2014 = [str(item).zfill(6) for item in Close_2014]\n",
        "Close_2015 = [str(item).zfill(6) for item in Close_2015]\n",
        "Close_2016 = [str(item).zfill(6) for item in Close_2016]\n",
        "Close_2017 = [str(item).zfill(6) for item in Close_2017]\n",
        "Close_2018 = [str(item).zfill(6) for item in Close_2018]\n",
        "Close_2019 = [str(item).zfill(6) for item in Close_2019]\n",
        "Close_2020 = [str(item).zfill(6) for item in Close_2020]\n",
        "Close_2021 = [str(item).zfill(6) for item in Close_2021]\n",
        "Close_2022 = [str(item).zfill(6) for item in Close_2022]\n",
        "Close_2023 = [str(item).zfill(6) for item in Close_2023]"
      ]
    },
    {
      "cell_type": "code",
      "source": [
        "for year in range(2007, 2010):\n",
        "    valid_codes = []\n",
        "    code_list = globals()[f'Close_{year}']\n",
        "\n",
        "    for code in code_list:\n",
        "        try:\n",
        "            fdr.DataReader(code, f'{year}-01-01', f'{year+3}-12-31')['Close']\n",
        "            valid_codes.append(code)\n",
        "        except:\n",
        "            pass\n",
        "\n",
        "    df_list = [fdr.DataReader(code, f'{year}-01-01', f'{year+3}-12-31')['Close'] for code in valid_codes]\n",
        "    df = pd.concat(df_list, axis=1)\n",
        "    df.columns = valid_codes\n",
        "\n",
        "    globals()[f'Close_{year}'] = df\n",
        "\n",
        "    # csv 파일로 저장\n",
        "    df.to_csv(f'Close_{year}.csv')"
      ],
      "metadata": {
        "id": "Z_UkTZcPXSwq"
      },
      "execution_count": null,
      "outputs": []
    },
    {
      "cell_type": "code",
      "execution_count": null,
      "metadata": {
        "id": "Awak7y0hYK39"
      },
      "outputs": [],
      "source": [
        "import pandas as pd\n",
        "import FinanceDataReader as fdr\n",
        "\n",
        "for year in range(2007, 2010):\n",
        "    valid_codes = []\n",
        "    code_list = globals()[f'Close_{year}']\n",
        "\n",
        "    for code in code_list:\n",
        "        try:\n",
        "            fdr.DataReader(code, f'{year}-01-01', f'{year+3}-12-31')['Close']\n",
        "            valid_codes.append(code)\n",
        "        except:\n",
        "            pass\n",
        "\n",
        "    df_list = [fdr.DataReader(code, f'{year}-01-01', f'{year+3}-12-31')['Close'] for code in valid_codes]\n",
        "    df = pd.concat(df_list, axis=1)\n",
        "    df.columns = valid_codes\n",
        "\n",
        "    globals()[f'Close_{year}'] = df\n",
        "\n",
        "    # csv 파일로 저장\n",
        "    df.to_csv(f'Close_{year}.csv')"
      ]
    },
    {
      "cell_type": "code",
      "execution_count": null,
      "metadata": {
        "id": "3aSGgfMMeSW2"
      },
      "outputs": [],
      "source": [
        "for year in range(2010, 2015):\n",
        "    valid_codes = []\n",
        "    code_list = globals()[f'Close_{year}']\n",
        "\n",
        "    for code in code_list:\n",
        "        try:\n",
        "            fdr.DataReader(code, f'{year}-01-01', f'{year+3}-12-31')['Close']\n",
        "            valid_codes.append(code)\n",
        "        except:\n",
        "            pass\n",
        "\n",
        "    df_list = [fdr.DataReader(code, f'{year}-01-01', f'{year+3}-12-31')['Close'] for code in valid_codes]\n",
        "    df = pd.concat(df_list, axis=1)\n",
        "    df.columns = valid_codes\n",
        "\n",
        "    globals()[f'Close_{year}'] = df\n",
        "\n",
        "    # csv 파일로 저장\n",
        "    df.to_csv(f'Close_{year}.csv')"
      ]
    },
    {
      "cell_type": "code",
      "execution_count": null,
      "metadata": {
        "id": "aRhMUJHwz_ca"
      },
      "outputs": [],
      "source": [
        "for year in range(2015, 2020):\n",
        "    valid_codes = []\n",
        "    code_list = globals()[f'Close_{year}']\n",
        "\n",
        "    for code in code_list:\n",
        "        try:\n",
        "            fdr.DataReader(code, f'{year}-01-01', f'{year+3}-12-31')['Close']\n",
        "            valid_codes.append(code)\n",
        "        except:\n",
        "            pass\n",
        "\n",
        "    df_list = [fdr.DataReader(code, f'{year}-01-01', f'{year+3}-12-31')['Close'] for code in valid_codes]\n",
        "    df = pd.concat(df_list, axis=1)\n",
        "    df.columns = valid_codes\n",
        "\n",
        "    globals()[f'Close_{year}'] = df\n",
        "\n",
        "    # csv 파일로 저장\n",
        "    df.to_csv(f'Close_{year}.csv')"
      ]
    },
    {
      "cell_type": "code",
      "execution_count": null,
      "metadata": {
        "id": "sp12y705tVsD"
      },
      "outputs": [],
      "source": [
        "for year in range(2020, 2024):\n",
        "    valid_codes = []\n",
        "    code_list = globals()[f'Close_{year}']\n",
        "\n",
        "    for code in code_list:\n",
        "        try:\n",
        "            fdr.DataReader(code, f'{year}-01-01', f'{year+3}-12-31')['Close']\n",
        "            valid_codes.append(code)\n",
        "        except:\n",
        "            pass\n",
        "\n",
        "    df_list = [fdr.DataReader(code, f'{year}-01-01', f'{year+3}-12-31')['Close'] for code in valid_codes]\n",
        "    df = pd.concat(df_list, axis=1)\n",
        "    df.columns = valid_codes\n",
        "\n",
        "    globals()[f'Close_{year}'] = df\n",
        "\n",
        "    # csv 파일로 저장\n",
        "    df.to_csv(f'Close_{year}.csv')"
      ]
    },
    {
      "cell_type": "markdown",
      "metadata": {
        "id": "PygV3TtXtSlx"
      },
      "source": [
        "#### train 4년 test 1년"
      ]
    },
    {
      "cell_type": "code",
      "execution_count": null,
      "metadata": {
        "id": "QEKW0Jh8tZc6"
      },
      "outputs": [],
      "source": [
        "for year in range(2004, 2019):\n",
        "    valid_codes = []\n",
        "    code_list = globals()[f'Close_{year}']\n",
        "\n",
        "    for code in code_list:\n",
        "        try:\n",
        "            fdr.DataReader(code, f'{year}-01-01', f'{year+4}-12-31')['Close']\n",
        "            valid_codes.append(code)\n",
        "        except:\n",
        "            pass\n",
        "\n",
        "    df_list = [fdr.DataReader(code, f'{year}-01-01', f'{year+4}-12-31')['Close'] for code in valid_codes]\n",
        "    df = pd.concat(df_list, axis=1)\n",
        "    df.columns = valid_codes\n",
        "\n",
        "    globals()[f'Close_{year}'] = df\n",
        "\n",
        "    # csv 파일로 저장\n",
        "    df.to_csv(f'Close_{year}.csv')"
      ]
    },
    {
      "cell_type": "markdown",
      "source": [
        "### Train 19년 Test 1년"
      ],
      "metadata": {
        "id": "c69MBugTtO-k"
      }
    },
    {
      "cell_type": "code",
      "source": [
        "year = 2004\n",
        "valid_codes = []\n",
        "code_list = globals()[f'Close_{year}']\n",
        "\n",
        "for code in code_list:\n",
        "    try:\n",
        "        fdr.DataReader(code, f'{year}-01-01', f'{year+19}-12-31')['Close']\n",
        "        valid_codes.append(code)\n",
        "    except:\n",
        "        pass\n",
        "\n",
        "df_list = [fdr.DataReader(code, f'{year}-01-01', f'{year+19}-12-31')['Close'] for code in valid_codes]\n",
        "df = pd.concat(df_list, axis=1)\n",
        "df.columns = valid_codes\n",
        "\n",
        "globals()[f'Close_{year}'] = df\n",
        "\n",
        "# csv 파일로 저장\n",
        "df.to_csv('Close.csv')"
      ],
      "metadata": {
        "id": "LnZMl-zWr5uh",
        "colab": {
          "base_uri": "https://localhost:8080/"
        },
        "outputId": "844a831a-4c6a-41bc-fbaa-7b9e57bde199"
      },
      "execution_count": null,
      "outputs": [
        {
          "output_type": "stream",
          "name": "stdout",
          "text": [
            "\"000000\" invalid symbol or has no data\n"
          ]
        }
      ]
    },
    {
      "cell_type": "code",
      "source": [],
      "metadata": {
        "id": "Rcf5nWros5Jz"
      },
      "execution_count": null,
      "outputs": []
    }
  ],
  "metadata": {
    "colab": {
      "provenance": [],
      "authorship_tag": "ABX9TyO5ofNdZ9EdTwZzGKATVSS6",
      "include_colab_link": true
    },
    "kernelspec": {
      "display_name": "Python 3",
      "name": "python3"
    },
    "language_info": {
      "name": "python"
    }
  },
  "nbformat": 4,
  "nbformat_minor": 0
}