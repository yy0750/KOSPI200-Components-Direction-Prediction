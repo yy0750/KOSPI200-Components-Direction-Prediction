{
  "cells": [
    {
      "cell_type": "markdown",
      "metadata": {
        "id": "view-in-github",
        "colab_type": "text"
      },
      "source": [
        "<a href=\"https://colab.research.google.com/github/yy0750/KOSPI200-Components-Direction-Prediction/blob/main/predict_one_month.ipynb\" target=\"_parent\"><img src=\"https://colab.research.google.com/assets/colab-badge.svg\" alt=\"Open In Colab\"/></a>"
      ]
    },
    {
      "cell_type": "code",
      "execution_count": null,
      "metadata": {
        "colab": {
          "base_uri": "https://localhost:8080/"
        },
        "id": "W07r7amrm-kD",
        "outputId": "0b8b4aa0-f210-4f61-c9f3-3fb2d126b843"
      },
      "outputs": [
        {
          "name": "stdout",
          "output_type": "stream",
          "text": [
            "Collecting catboost\n",
            "  Downloading catboost-1.2.5-cp310-cp310-manylinux2014_x86_64.whl (98.2 MB)\n",
            "\u001b[2K     \u001b[90m━━━━━━━━━━━━━━━━━━━━━━━━━━━━━━━━━━━━━━━━\u001b[0m \u001b[32m98.2/98.2 MB\u001b[0m \u001b[31m5.8 MB/s\u001b[0m eta \u001b[36m0:00:00\u001b[0m\n",
            "\u001b[?25hRequirement already satisfied: graphviz in /usr/local/lib/python3.10/dist-packages (from catboost) (0.20.3)\n",
            "Requirement already satisfied: matplotlib in /usr/local/lib/python3.10/dist-packages (from catboost) (3.7.1)\n",
            "Requirement already satisfied: numpy>=1.16.0 in /usr/local/lib/python3.10/dist-packages (from catboost) (1.25.2)\n",
            "Requirement already satisfied: pandas>=0.24 in /usr/local/lib/python3.10/dist-packages (from catboost) (2.0.3)\n",
            "Requirement already satisfied: scipy in /usr/local/lib/python3.10/dist-packages (from catboost) (1.11.4)\n",
            "Requirement already satisfied: plotly in /usr/local/lib/python3.10/dist-packages (from catboost) (5.15.0)\n",
            "Requirement already satisfied: six in /usr/local/lib/python3.10/dist-packages (from catboost) (1.16.0)\n",
            "Requirement already satisfied: python-dateutil>=2.8.2 in /usr/local/lib/python3.10/dist-packages (from pandas>=0.24->catboost) (2.8.2)\n",
            "Requirement already satisfied: pytz>=2020.1 in /usr/local/lib/python3.10/dist-packages (from pandas>=0.24->catboost) (2023.4)\n",
            "Requirement already satisfied: tzdata>=2022.1 in /usr/local/lib/python3.10/dist-packages (from pandas>=0.24->catboost) (2024.1)\n",
            "Requirement already satisfied: contourpy>=1.0.1 in /usr/local/lib/python3.10/dist-packages (from matplotlib->catboost) (1.2.1)\n",
            "Requirement already satisfied: cycler>=0.10 in /usr/local/lib/python3.10/dist-packages (from matplotlib->catboost) (0.12.1)\n",
            "Requirement already satisfied: fonttools>=4.22.0 in /usr/local/lib/python3.10/dist-packages (from matplotlib->catboost) (4.53.0)\n",
            "Requirement already satisfied: kiwisolver>=1.0.1 in /usr/local/lib/python3.10/dist-packages (from matplotlib->catboost) (1.4.5)\n",
            "Requirement already satisfied: packaging>=20.0 in /usr/local/lib/python3.10/dist-packages (from matplotlib->catboost) (24.0)\n",
            "Requirement already satisfied: pillow>=6.2.0 in /usr/local/lib/python3.10/dist-packages (from matplotlib->catboost) (9.4.0)\n",
            "Requirement already satisfied: pyparsing>=2.3.1 in /usr/local/lib/python3.10/dist-packages (from matplotlib->catboost) (3.1.2)\n",
            "Requirement already satisfied: tenacity>=6.2.0 in /usr/local/lib/python3.10/dist-packages (from plotly->catboost) (8.3.0)\n",
            "Installing collected packages: catboost\n",
            "Successfully installed catboost-1.2.5\n"
          ]
        }
      ],
      "source": [
        "!pip install catboost\n"
      ]
    },
    {
      "cell_type": "code",
      "execution_count": null,
      "metadata": {
        "colab": {
          "base_uri": "https://localhost:8080/"
        },
        "id": "3M3A768Eu-LO",
        "outputId": "4d9e7ef4-1bed-46a9-cc03-ee681bc8a16c"
      },
      "outputs": [
        {
          "name": "stdout",
          "output_type": "stream",
          "text": [
            "Drive already mounted at /content/drive; to attempt to forcibly remount, call drive.mount(\"/content/drive\", force_remount=True).\n",
            "[Errno 2] No such file or directory: 'drive/MyDrive/code/통계학과머신러닝PBL'\n",
            "/content/drive/MyDrive/code/통계학과머신러닝PBL\n",
            "/content/drive/My Drive/code/통계학과머신러닝PBL\n"
          ]
        }
      ],
      "source": [
        "# Google Drive 마운트\n",
        "from google.colab import drive\n",
        "drive.mount('/content/drive')\n",
        "%cd drive/MyDrive/code/통계학과머신러닝PBL\n",
        "!pwd\n",
        "\n",
        "import pandas as pd\n",
        "import numpy as np\n",
        "import random\n",
        "import time\n",
        "import pickle\n",
        "from sklearn.preprocessing import OneHotEncoder\n",
        "from Statistics import Statistics\n",
        "from sklearn.ensemble import RandomForestClassifier\n",
        "from sklearn.linear_model import LogisticRegression\n",
        "from xgboost import XGBClassifier\n",
        "from catboost import CatBoostClassifier\n",
        "import lightgbm as lgb\n",
        "\n",
        "import os\n",
        "# 시드 값 설정\n",
        "SEED = 9\n",
        "# 파이썬 해시 함수의 시드를 설정하여 해시 값이 재현 가능하도록 합니다.\n",
        "os.environ['PYTHONHASHSEED'] = str(SEED)\n",
        "# 파이썬의 내장 random 모듈에서 사용하는 시드 값을 설정합니다.\n",
        "random.seed(SEED)\n",
        "# NumPy의 random 모듈에서 사용하는 시드 값을 설정합니다.\n",
        "np.random.seed(SEED)"
      ]
    },
    {
      "cell_type": "code",
      "execution_count": null,
      "metadata": {
        "id": "zt1thhJuY7zg"
      },
      "outputs": [],
      "source": [
        "# 일일 수익률 계산, 중앙값 기준 이진 라벨링\n",
        "def create_label(df):\n",
        "    perc = [0.0, 0.5, 1.0]\n",
        "    label = df.iloc[:, 1:].pct_change(periods=20, fill_method=None)[20:].apply(\n",
        "        lambda x: pd.qcut(x.rank(method='first'), perc, labels=False), axis=1)\n",
        "    return label\n",
        "\n",
        "# 주식 데이터 생성\n",
        "def create_stock_data(df, st, test_year):\n",
        "    st_data = pd.DataFrame([])\n",
        "    st_data['Date'] = list(df['Date'])\n",
        "    st_data['Name'] = [st] * len(st_data)\n",
        "\n",
        "    for k in list(range(1, 21)) + list(range(40, 241, 20)):\n",
        "        st_data['R' + str(k)] = df[st].pct_change(k)\n",
        "\n",
        "    st_data['R-future'] = df[st].pct_change(20).shift(-20)\n",
        "    st_data['label'] = list(label[st])+ [np.nan]*20\n",
        "    st_data['Date'] = st_data['Date'].astype(str)\n",
        "    st_data['Month'] = list(df['Date'].str[:-3])\n",
        "    st_data = st_data.dropna()\n",
        "\n",
        "    trade_year = st_data['Month'].str[:4]\n",
        "    st_data = st_data.drop(columns=['Month'])\n",
        "\n",
        "    st_train_data = st_data[trade_year < str(test_year)]\n",
        "    st_test_data = st_data[trade_year == str(test_year)]\n",
        "\n",
        "    return np.array(st_train_data), np.array(st_test_data), st_data\n",
        "\n",
        "\n",
        "def trainer(train_data, test_data):\n",
        "    random.seed(SEED)\n",
        "    np.random.seed(SEED)\n",
        "\n",
        "    train_x, train_y = train_data[:, 2:-2], train_data[:, -1]\n",
        "    train_y = train_y.astype('int')\n",
        "\n",
        "    print('Started training')\n",
        "    #clf = RandomForestClassifier(n_estimators=1000, max_depth=20, random_state=SEED, n_jobs=-1)\n",
        "    #clf = LogisticRegression(random_state=SEED, max_iter=1000, n_jobs=-1)\n",
        "    #clf = XGBClassifier(n_estimators=1000, max_depth=20, random_state=SEED, n_jobs=-1,)\n",
        "    clf = CatBoostClassifier(iterations=1000, depth=16, random_seed=SEED, thread_count=-1, verbose=False)\n",
        "    #clf = lgb.LGBMClassifier(n_estimators=1000, max_depth=20, random_state=SEED, n_jobs=-1)\n",
        "    clf.fit(train_x, train_y)\n",
        "    print('Completed ', clf.score(train_x, train_y))\n",
        "\n",
        "    dates = list(set(test_data[:, 0]))\n",
        "    predictions = {}\n",
        "\n",
        "    for day in dates:\n",
        "        test_d = test_data[test_data[:, 0] == day]\n",
        "        test_d = test_d[:, 2:-2]\n",
        "        predictions[day] = clf.predict_proba(test_d)[:, 1]\n",
        "\n",
        "    return predictions\n",
        "\n",
        "# def simulate(test_data,predictions):\n",
        "#     rets = pd.DataFrame([],columns=['Long'])\n",
        "#     k = 2\n",
        "#     for day in sorted(predictions.keys()):\n",
        "#         preds = predictions[day]\n",
        "#         test_returns = test_data[test_data[:,0]==day][:,-2]\n",
        "#         top_preds = predictions[day].argsort()[-k:][::-1]\n",
        "#         trans_long = test_returns[top_preds]\n",
        "\n",
        "#         recommended_stock = test_data[test_data[:, 0] == day][top_preds, 1][0]\n",
        "#         print(recommended_stock)\n",
        "#         rets.loc[day] = [np.mean(trans_long)]\n",
        "#     return rets\n",
        "\n",
        "def simulate(test_data, predictions):\n",
        "    rets = pd.DataFrame(columns=['Date', 'Long', 'Stock1', 'Stock2'])\n",
        "    k = 2\n",
        "    for day in sorted(predictions.keys()):\n",
        "        preds = predictions[day]\n",
        "        test_returns = test_data[test_data[:, 0] == day][:, -2]\n",
        "        top_preds = predictions[day].argsort()[-k:][::-1]\n",
        "        trans_long = test_returns[top_preds]\n",
        "\n",
        "        # 추천된 두 종목의 이름을 가져오기\n",
        "        recommended_stocks = test_data[test_data[:, 0] == day][top_preds, 1]\n",
        "\n",
        "        new_row = pd.DataFrame({\n",
        "            'Date': [day],\n",
        "            'Long': [np.mean(trans_long)],\n",
        "            'Stock1': [recommended_stocks[0]],\n",
        "            'Stock2': [recommended_stocks[1]]\n",
        "        })\n",
        "        rets = pd.concat([rets, new_row], ignore_index=True)\n",
        "    return rets\n",
        "\n",
        "result_folder = 'test'\n",
        "for directory in [result_folder]:\n",
        "    if not os.path.exists(directory):\n",
        "        os.makedirs(directory)"
      ]
    },
    {
      "cell_type": "code",
      "execution_count": null,
      "metadata": {
        "colab": {
          "background_save": true,
          "base_uri": "https://localhost:8080/"
        },
        "id": "PXvwz2JbZZU3",
        "outputId": "f0157e2e-9818-46aa-e337-f2aa36d1677b"
      },
      "outputs": [
        {
          "name": "stdout",
          "output_type": "stream",
          "text": [
            "----------------------------------------\n",
            "test_year:  2024\n",
            "----------------------------------------\n",
            "{'2023-12': {'017800', '069620', '009420', '052690', '128940', '000990', '001570', '003230', '006650', '034020'}}\n",
            "Created : (29620, 35) (860, 35)\n",
            "Started training\n"
          ]
        }
      ],
      "source": [
        "test_year = 2024\n",
        "\n",
        "print('-' * 40)\n",
        "print(\"test_year: \", test_year)\n",
        "print('-' * 40)\n",
        "\n",
        "# 파일 경로 설정\n",
        "df = pd.read_csv('/content/drive/MyDrive/code/통계학과머신러닝PBL/data/Close2.csv')\n",
        "KS200_df = pd.read_csv('/content/drive/MyDrive/code/통계학과머신러닝PBL/data/KSXconst.csv', dtype=str)\n",
        "all_companies =  df.columns[1:].tolist()\n",
        "\n",
        "# 주어진 주식 리스트\n",
        "stock_list = [\n",
        "    '001570', '009420', '000990', '034020', '128940',\n",
        "    '052690', '003230', '006650', '017800', '069620'\n",
        "]\n",
        "\n",
        "# 키를 '2023-12'로 설정하여 딕셔너리 생성\n",
        "constituents = {'2023-12': set(stock_list)}\n",
        "\n",
        "# 결과 출력\n",
        "print(constituents)\n",
        "\n",
        "label = create_label(df)\n",
        "train_data, test_data = [], []  # 빈 리스트로 초기화\n",
        "\n",
        "\n",
        "for st in stock_list:\n",
        "    st_train_data, st_test_data, st_data = create_stock_data(df, st, test_year)\n",
        "    train_data.append(st_train_data)\n",
        "    test_data.append(st_test_data)\n",
        "\n",
        "train_data = np.concatenate([x for x in train_data])\n",
        "test_data = np.concatenate([x for x in test_data])\n",
        "print('Created :', train_data.shape, test_data.shape)\n",
        "\n",
        "predictions = trainer(train_data,test_data)\n",
        "returns = simulate(test_data, predictions)\n",
        "\n",
        "# result = Statistics(returns.sum(axis=1))\n",
        "# print('\\nAverage returns prior to transaction charges')\n",
        "\n",
        "returns.to_csv(result_folder + '/avg_daily_rets-' + str(test_year) + '.csv')\n",
        "returns"
      ]
    },
    {
      "cell_type": "code",
      "execution_count": null,
      "metadata": {
        "colab": {
          "base_uri": "https://localhost:8080/"
        },
        "id": "9-PIr0gD3d-b",
        "outputId": "0aa0ab8d-7ce4-49f8-d3ef-0d7b5b235181"
      },
      "outputs": [
        {
          "data": {
            "text/plain": [
              "array([['2024-01-02', '001570', -0.030219780219780223, ...,\n",
              "        3.2023809523809526, -0.26345609065155806, 0.0],\n",
              "       ['2024-01-03', '001570', -0.017941454202077378, ...,\n",
              "        3.193548387096774, -0.24903846153846154, 0.0],\n",
              "       ['2024-01-04', '001570', -0.011538461538461497, ...,\n",
              "        3.055226824457594, -0.2324902723735408, 0.0],\n",
              "       ...,\n",
              "       ['2024-05-03', '069620', 0.001790510295434089, ...,\n",
              "        0.0026881720430107503, -0.025915996425379784, 0.0],\n",
              "       ['2024-05-07', '069620', 0.0044682752457552155, ...,\n",
              "        -0.000888888888888939, -0.03380782918149461, 0.0],\n",
              "       ['2024-05-08', '069620', 0.002669039145907437, ...,\n",
              "        0.001777777777777878, -0.032830523513753374, 0.0]], dtype=object)"
            ]
          },
          "execution_count": 9,
          "metadata": {},
          "output_type": "execute_result"
        }
      ],
      "source": [
        "test_data"
      ]
    },
    {
      "cell_type": "code",
      "execution_count": null,
      "metadata": {
        "id": "pDsH18KaATtE"
      },
      "outputs": [],
      "source": []
    }
  ],
  "metadata": {
    "colab": {
      "provenance": [],
      "authorship_tag": "ABX9TyPwBUswiapGrdiwU6oEy8lf",
      "include_colab_link": true
    },
    "kernelspec": {
      "display_name": "Python 3",
      "name": "python3"
    },
    "language_info": {
      "name": "python"
    }
  },
  "nbformat": 4,
  "nbformat_minor": 0
}